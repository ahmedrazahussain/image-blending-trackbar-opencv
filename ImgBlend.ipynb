{
 "cells": [
  {
   "cell_type": "code",
   "execution_count": 24,
   "id": "a21fcc38-a27f-4c13-8e3a-77c72bf8b540",
   "metadata": {},
   "outputs": [],
   "source": [
    "import cv2 as cv\n",
    "import numpy as np\n",
    "\n",
    "img1 = cv.imread('py.webp')\n",
    "img1 = cv.resize(img1, (700,500))\n",
    "\n",
    "img2 = cv.imread('jv.png')\n",
    "img2 = cv.resize(img2, (700,500))\n",
    "\n",
    "img = np.zeros([500,700,3], np.uint8)\n",
    "\n",
    "def blend(x):\n",
    "    pass\n",
    "\n",
    "cv.namedWindow('Blend')\n",
    "\n",
    "cv.createTrackbar('Alpha', 'Blend', 1, 100, blend)\n",
    "\n",
    "switch = '0:OFF\\n1:ON'\n",
    "cv.createTrackbar(switch, 'Blend', 0, 1, blend)\n",
    "\n",
    "while True:\n",
    "    s = cv.getTrackbarPos(switch, 'Blend')\n",
    "    a = cv.getTrackbarPos('Alpha', 'Blend')\n",
    "\n",
    "    n = float(a/100)\n",
    "\n",
    "    if s == 0:\n",
    "        image = img[:]\n",
    "    else:\n",
    "        image = cv.addWeighted(img1, 1-n, img2, n, 0)\n",
    "\n",
    "    cv.imshow('Blend', image)\n",
    "\n",
    "    if cv.waitKey(1) & 0xff == ord('z'):\n",
    "        break\n",
    "\n",
    "cv.destroyAllWindows()"
   ]
  }
 ],
 "metadata": {
  "kernelspec": {
   "display_name": "Python 3 (ipykernel)",
   "language": "python",
   "name": "python3"
  },
  "language_info": {
   "codemirror_mode": {
    "name": "ipython",
    "version": 3
   },
   "file_extension": ".py",
   "mimetype": "text/x-python",
   "name": "python",
   "nbconvert_exporter": "python",
   "pygments_lexer": "ipython3",
   "version": "3.13.2"
  }
 },
 "nbformat": 4,
 "nbformat_minor": 5
}
